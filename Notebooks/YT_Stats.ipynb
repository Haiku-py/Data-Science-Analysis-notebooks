{
 "cells": [
  {
   "cell_type": "code",
   "execution_count": 17,
   "metadata": {},
   "outputs": [],
   "source": [
    "# Importing Libraries\n",
    "import json, os, requests, copy\n",
    "import pandas as pd\n",
    "from tkinter import *"
   ]
  },
  {
   "cell_type": "code",
   "execution_count": 18,
   "metadata": {},
   "outputs": [],
   "source": [
    "# Fetching API Key from Environment Variables\n",
    "api_key = os.environ.get(\"YT_apikey\")"
   ]
  },
  {
   "cell_type": "code",
   "execution_count": 19,
   "metadata": {},
   "outputs": [],
   "source": [
    "def get_user_response():\r\n",
    "    \"\"\"\r\n",
    "    Creates a window to record user responses to the Channel Name And/Or\r\n",
    "    Channel ID they wish to know about\r\n",
    "    \"\"\"\r\n",
    "\r\n",
    "    root = Tk()\r\n",
    "    root.title(\"Form\")\r\n",
    "    root.geometry(\"600x300\")\r\n",
    "\r\n",
    "    # Initialising variables to store the Channel Name\r\n",
    "    # And/Or Channel ID input by the User\r\n",
    "    c_name = StringVar(root)\r\n",
    "    c_id = StringVar(root)\r\n",
    "\r\n",
    "    def submit():\r\n",
    "        \"\"\"\r\n",
    "        States the function of the Submit Button, i.e\r\n",
    "        to store the responses in variables and close\r\n",
    "        the window upon a valid response\r\n",
    "        \"\"\"\r\n",
    "        \r\n",
    "        nonlocal c_name\r\n",
    "        c_name = channel_name_entry.get()\r\n",
    "\r\n",
    "        nonlocal c_id\r\n",
    "        c_id = channel_id_entry.get()\r\n",
    "        \r\n",
    "        nonlocal root\r\n",
    "        root.destroy()\r\n",
    "\r\n",
    "    # Creating Labels\r\n",
    "    channel_name_label = Label(root, text=\"Channel User Name\")\r\n",
    "    channel_id_label = Label(root, text=\"Channel ID\")\r\n",
    "\r\n",
    "    # Creating Entry Boxes\r\n",
    "    channel_name_entry = Entry(root)\r\n",
    "    channel_id_entry = Entry(root)\r\n",
    "\r\n",
    "    # Creating a Submit Button\r\n",
    "    sub_button = Button(root, text=\"Submit\", command=submit)\r\n",
    "\r\n",
    "    # Positioning Submit, Label and Entry Boxes\r\n",
    "    channel_name_label.grid(row=0, column=0)\r\n",
    "    channel_id_label.grid(row=1, column=0)\r\n",
    "    channel_name_entry.grid(row=0, column=1)\r\n",
    "    channel_id_entry.grid(row=1, column=1)\r\n",
    "    sub_button.grid(row=4, column=1)\r\n",
    "\r\n",
    "    root.mainloop()\r\n",
    "\r\n",
    "    return c_name, c_id"
   ]
  },
  {
   "cell_type": "code",
   "execution_count": 38,
   "metadata": {},
   "outputs": [],
   "source": [
    "def get_channel_stats(channel_name=\"\", channel_id=\"\"):\n",
    "    \"\"\"\n",
    "    Returns some basic statistics about the channel (Title, Description, Views, Subscribers, Number of Videos) and the Upload ID\n",
    "    associated with that channel, which will be used to collect info about all the videos of that Channel\n",
    "    \n",
    "    Required Arguements (Any 1 or Both):\n",
    "    channel_name:   User Name of the YouTube Channel (Sometimes the Display Name and the Actual User Name of the Channel may         differ)\n",
    "    channel_id:     Unique Channel ID associated with a YouTube Channel\n",
    "    \"\"\"\n",
    "    \n",
    "    # Initialise the tkinter window to store User response\n",
    "    channel_name, channel_id = get_user_response()\n",
    "    \n",
    "    base_channel_url = \"https://www.googleapis.com/youtube/v3/channels\"\n",
    "    \n",
    "    if channel_id != \"\":\n",
    "        params_dict = {\n",
    "            \"key\": api_key,\n",
    "            \"id\": channel_id,\n",
    "            \"part\": \"contentDetails, statistics, snippet\"\n",
    "        }\n",
    "    else:\n",
    "        params_dict = {\n",
    "            \"key\": api_key,\n",
    "            \"forUsername\": channel_name,\n",
    "            \"part\": \"contentDetails, statistics, snippet\"\n",
    "        }\n",
    "\n",
    "    response_obj = requests.get(base_channel_url, params=params_dict)\n",
    "    response = json.loads(response_obj.text)\n",
    "    \n",
    "    try:\n",
    "        resp_items = response[\"items\"]\n",
    "\n",
    "        channel_uid = resp_items[0][\"contentDetails\"][\"relatedPlaylists\"][\"uploads\"]\n",
    "        channel_name = resp_items[0][\"snippet\"][\"title\"]\n",
    "        channel_desc = resp_items[0][\"snippet\"][\"description\"]\n",
    "        views = int(resp_items[0][\"statistics\"][\"viewCount\"])\n",
    "        subs = int(resp_items[0][\"statistics\"][\"subscriberCount\"])\n",
    "        num_videos = int(resp_items[0][\"statistics\"][\"videoCount\"])\n",
    "    \n",
    "        return (channel_uid, channel_name, channel_desc, views, subs, num_videos)\n",
    "    \n",
    "    except:\n",
    "        print(\"\"\"Please enter a valid Channel Name And/Or Channel ID!\n",
    "        \n",
    "Note: It is better to input a Channel ID instead of Channel Name as it is easier\n",
    "to find the correct Channel by it's Unique ID rather than it's Username, which\n",
    "might be different from it's Display Name\n",
    "\"\"\")\n",
    "        return get_channel_stats()"
   ]
  },
  {
   "cell_type": "code",
   "execution_count": 39,
   "metadata": {},
   "outputs": [],
   "source": [
    "# Storing Channel Statitics in Variables\n",
    "uid, title, desc, views, subs, vid_count = get_channel_stats()\n",
    "# ml_id = \"UC8CmTnoR19lElKS5rOIk84g\"\n",
    "\n",
    "# Formatting Numbers to inclue commas for better readability\n",
    "views = f\"{views:,}\"\n",
    "subs = f\"{subs:,}\"\n",
    "vid_count = f\"{vid_count:,}\""
   ]
  },
  {
   "cell_type": "code",
   "execution_count": 24,
   "metadata": {},
   "outputs": [],
   "source": [
    "def get_vid_ids(aList, upload_id):\n",
    "    \"\"\"\n",
    "    Returns a List of all the video IDs associated with that Channel\n",
    "\n",
    "    Required Arguements:\n",
    "    aList:          A List where to store all the video IDs\n",
    "    upload_id:      The Unique Upload ID of the channel fetched from the previous function (get_channel_stats)\n",
    "\n",
    "    \"\"\"\n",
    "    \n",
    "    base_playlist_url = \"https://www.googleapis.com/youtube/v3/playlistItems\"\n",
    "    params_dict = {\n",
    "        \"part\": \"snippet\",\n",
    "        \"playlistId\": upload_id,\n",
    "        \"maxResults\": 50,\n",
    "        \"key\": api_key\n",
    "    }\n",
    "    \n",
    "        \n",
    "    response_obj = requests.get(base_playlist_url, params=params_dict)\n",
    "    response = json.loads(response_obj.text)\n",
    "    resp_items = response[\"items\"]\n",
    "    \n",
    "    for item in resp_items:\n",
    "        aList.append(item[\"snippet\"][\"resourceId\"][\"videoId\"])\n",
    "        \n",
    "    \"\"\"\n",
    "    Since the API can only fetch 50 results per query, it will generate a \"nextPageToken\" specifying the \n",
    "    place to look at for the next 50 results. It will continue to do so until the results left to query \n",
    "    are < 50. If the Channel has < 50 videos, it will not generate the \"nextPageToken\".\n",
    "\n",
    "    This block checks if there is a \"nextPageToken\" returned with the query. If so, it executes a while\n",
    "    loop till the query keeps returning a \"nextPageToken\". It stops when the token is not returned.\n",
    "    \"\"\"\n",
    "    condition = \"nextPageToken\" in response\n",
    "    while condition:\n",
    "        token = response[\"nextPageToken\"]\n",
    "        params_dict[\"pageToken\"] = token\n",
    "        response_obj = requests.get(base_playlist_url, params=params_dict)\n",
    "        response = json.loads(response_obj.text)\n",
    "        resp_items = response[\"items\"]\n",
    "        \n",
    "        for item in resp_items:\n",
    "            aList.append(item[\"snippet\"][\"resourceId\"][\"videoId\"])\n",
    "        condition = \"nextPageToken\" in response\n",
    "\n",
    "    return aList"
   ]
  },
  {
   "cell_type": "code",
   "execution_count": 25,
   "metadata": {},
   "outputs": [],
   "source": [
    "vid_ids = []"
   ]
  },
  {
   "cell_type": "code",
   "execution_count": 26,
   "metadata": {},
   "outputs": [],
   "source": [
    "get_vid_ids(vid_ids, uid);"
   ]
  },
  {
   "cell_type": "code",
   "execution_count": 27,
   "metadata": {},
   "outputs": [
    {
     "output_type": "execute_result",
     "data": {
      "text/plain": [
       "1207"
      ]
     },
     "metadata": {},
     "execution_count": 27
    }
   ],
   "source": [
    "len(vid_ids)"
   ]
  },
  {
   "cell_type": "code",
   "execution_count": 28,
   "metadata": {},
   "outputs": [],
   "source": [
    "def get_vid_stats(aList, video_ids):\n",
    "    \"\"\"\n",
    "    Returns a list of Lists with each SubList containing the Title, Description, Upload Date, Views, Likes,\n",
    "    Dislikes, Comments and Watch Link for a Unique Video\n",
    "\n",
    "    Required Arguements:\n",
    "    aList:        A List where to store all the information about the video IDs gathered\n",
    "    and to ultimately convert to a DataFrame\n",
    "    video_ids:    A String (if only 1 Video ID) or a List contiaing Multiple Video IDs\n",
    "    \"\"\"\n",
    "\n",
    "    \"\"\"\n",
    "    This while loop is created because at a given time, the API can only fetch data about\n",
    "    a maximum of 50 videos. So, {x} starts at 0 and increments by 50 each time the loop is\n",
    "    run. In every loop run, the data about the videos fetched is appended to a list and \n",
    "    the loop is run again to fetch the data for the next 50 videos in the {vid_ids} List.\n",
    "    This keeps on going until x reaches a value >= len(vid_ids), at which point it stops.\n",
    "    \"\"\"\n",
    "    x = 0\n",
    "    while x < len(vid_ids):\n",
    "        base_video_url = \"https://www.googleapis.com/youtube/v3/videos\"\n",
    "        params_dict = {\n",
    "        \"part\": \"snippet, statistics\",\n",
    "        \"id\": vid_ids[x: x+50],    # Indexing is done to fetch data for 50 video IDs at a time.  \n",
    "        \"key\": api_key\n",
    "        }\n",
    "\n",
    "        response_object = requests.get(base_video_url, params=params_dict)\n",
    "        response = json.loads(response_object.text)\n",
    "        resp_items = response[\"items\"]\n",
    "\n",
    "        for item in resp_items:\n",
    "            title = item[\"snippet\"][\"title\"]\n",
    "            desc = item[\"snippet\"][\"description\"]\n",
    "            up_date = item[\"snippet\"][\"publishedAt\"][:10]\n",
    "            views = int(item[\"statistics\"][\"viewCount\"])\n",
    "            likes = int(item[\"statistics\"][\"likeCount\"])\n",
    "            dislikes = int(item[\"statistics\"][\"dislikeCount\"])\n",
    "            num_comments = int(item[\"statistics\"][\"commentCount\"])\n",
    "            vid_link = \"https://www.youtube.com/watch?v={}\".format(item[\"id\"])\n",
    "\n",
    "            aList.append([title, desc, up_date, views, likes, dislikes, num_comments, vid_link])\n",
    "        x += 50\n",
    "\n",
    "    return aList"
   ]
  },
  {
   "cell_type": "code",
   "execution_count": 29,
   "metadata": {},
   "outputs": [],
   "source": [
    "df_list = []"
   ]
  },
  {
   "cell_type": "code",
   "execution_count": 30,
   "metadata": {},
   "outputs": [],
   "source": [
    "get_vid_stats(df_list, vid_ids);"
   ]
  },
  {
   "cell_type": "code",
   "execution_count": 31,
   "metadata": {},
   "outputs": [
    {
     "output_type": "execute_result",
     "data": {
      "text/plain": [
       "1207"
      ]
     },
     "metadata": {},
     "execution_count": 31
    }
   ],
   "source": [
    "len(df_list)"
   ]
  },
  {
   "cell_type": "code",
   "execution_count": 32,
   "metadata": {},
   "outputs": [
    {
     "output_type": "execute_result",
     "data": {
      "text/plain": [
       "['The NEAT Algorithm is Neat',\n",
       " 'Code samples: https://github.com/Sentdex/NEAT-samples\\nNeat-Python: https://neat-python.readthedocs.io/en/latest/\\n\\nChannel membership: https://www.youtube.com/channel/UCfzlCWGWYyIQ0aLC5w48gBQ/join\\nDiscord: https://discord.gg/sentdex\\nSupport the content: https://pythonprogramming.net/support-donate/\\nTwitter: https://twitter.com/sentdex\\nInstagram: https://instagram.com/sentdex\\nFacebook: https://www.facebook.com/pythonprogramming.net/\\nTwitch: https://www.twitch.tv/sentdex',\n",
       " '2021-01-07',\n",
       " 4987,\n",
       " 371,\n",
       " 5,\n",
       " 71,\n",
       " 'https://www.youtube.com/watch?v=ZC0gMhYhwW0']"
      ]
     },
     "metadata": {},
     "execution_count": 32
    }
   ],
   "source": [
    "df_list[0]"
   ]
  },
  {
   "cell_type": "code",
   "execution_count": 33,
   "metadata": {},
   "outputs": [],
   "source": [
    "# Setting up Column names for our DataFrame\n",
    "df_column_names = [\"Title\", \"Description\", \"Uploaded On\", \"Views\", \"Likes\", \"Dislikes\", \"Comments\", \"Link\"]\n",
    "\n",
    "# Converting the Data gathered in our {df_list} List into a DataFrame\n",
    "df = pd.DataFrame(data=df_list, columns=df_column_names)"
   ]
  },
  {
   "source": [
    "## Basic Channel Statistics"
   ],
   "cell_type": "markdown",
   "metadata": {}
  },
  {
   "cell_type": "code",
   "execution_count": 66,
   "metadata": {},
   "outputs": [
    {
     "output_type": "stream",
     "name": "stdout",
     "text": [
      "Channel Title: sentdex\n\nChannel Description: Python Programming tutorials, going further than just the basics. Learn about machine learning, finance, data analysis, robotics, web development, game development and more.\n\nI have ~1000 videos, all of which do not fit on the front page. Try searching on the channel page, or via https://pythonprogramming.net. If you cannot find something, just ask! \n\nBitcoin donations: 1GV7srgR4NJx4vrk7avCmmVQQrqmv87ty6\nPaypal donations: HSKinsley@gmail.com\n\n\nTotal Subscribers: 996,000\nNumber of Videos uploaded: 1,207\n"
     ]
    }
   ],
   "source": [
    "print(f\"Channel Title: {title}\\n\",\n",
    "      f\"Channel Description: {desc}\\n\\n\",\n",
    "      f\"Total Subscribers: {subs}\",\n",
    "      sep=\"\\n\"\n",
    ") "
   ]
  },
  {
   "source": [
    "#### A Brief Overview of All the videos uploaded on the Channel"
   ],
   "cell_type": "markdown",
   "metadata": {}
  },
  {
   "cell_type": "code",
   "execution_count": 34,
   "metadata": {},
   "outputs": [
    {
     "output_type": "execute_result",
     "data": {
      "text/plain": [
       "                                                  Title  \\\n",
       "0                            The NEAT Algorithm is Neat   \n",
       "1     Neural Networks from Scratch - P.6 Softmax Act...   \n",
       "2         Neural Networks from Scratch (NNFS) in Print!   \n",
       "3                           Jetson Nano 2GB from NVIDIA   \n",
       "4                          NNFS Update #2: Content done   \n",
       "...                                                 ...   \n",
       "1202   How to Sort a Python Dictionary By Value or Key!   \n",
       "1203                          Python's Logging Function   \n",
       "1204           Python Encryption Tutorial with PyCrypto   \n",
       "1205  Matplotlib Python Tutorial Part 1: Basics and ...   \n",
       "1206             A Lap Around TWS in my Honda s2000 AP1   \n",
       "\n",
       "                                            Description Uploaded On   Views  \\\n",
       "0     Code samples: https://github.com/Sentdex/NEAT-...  2021-01-07    4987   \n",
       "1     The what and why of the Softmax Activation fun...  2020-12-18   22534   \n",
       "2     Get the book: https://nnfs.io\\ntwitters: \\ntwi...  2020-10-28  114549   \n",
       "3     Get it here: https://www.nvidia.com/en-us/auto...  2020-10-14   31595   \n",
       "4     More info: https://nnfs.io\\n\\nChannel membersh...  2020-09-25   26674   \n",
       "...                                                 ...         ...     ...   \n",
       "1202  Sentdex.com\\nFacebook.com/sentdex\\nTwitter.com...  2013-06-10   58415   \n",
       "1203  Sentdex.com\\nFacebook.com/sentdex\\nTwitter.com...  2013-06-08   24426   \n",
       "1204  Sentdex.com\\nFacebook.com/sentdex\\nTwitter.com...  2013-05-24  106696   \n",
       "1205  Sample code: http://pythonprogramming.net/matp...  2013-05-16  170258   \n",
       "1206  Enoying an open track @ Texas World Speedway i...  2013-05-10    3519   \n",
       "\n",
       "      Likes  Dislikes  Comments                                         Link  \n",
       "0       371         5        71  https://www.youtube.com/watch?v=ZC0gMhYhwW0  \n",
       "1      1173         7       279  https://www.youtube.com/watch?v=omz_NdFgWyU  \n",
       "2      5767        47       909  https://www.youtube.com/watch?v=sNHiM0DoEAg  \n",
       "3       804        14       135  https://www.youtube.com/watch?v=iRrySp4VoPs  \n",
       "4      1330        14       291  https://www.youtube.com/watch?v=SN0VwEt2huo  \n",
       "...     ...       ...       ...                                          ...  \n",
       "1202    392        27        34  https://www.youtube.com/watch?v=MGD_b2w_GU4  \n",
       "1203    143        10        18  https://www.youtube.com/watch?v=OyZkXsgv5qk  \n",
       "1204    556        31       123  https://www.youtube.com/watch?v=8PzDfykGg_g  \n",
       "1205    417        45       150  https://www.youtube.com/watch?v=wAwQ-noyB98  \n",
       "1206     44         4        19  https://www.youtube.com/watch?v=gJNaiIYodZg  \n",
       "\n",
       "[1207 rows x 8 columns]"
      ],
      "text/html": "<div>\n<style scoped>\n    .dataframe tbody tr th:only-of-type {\n        vertical-align: middle;\n    }\n\n    .dataframe tbody tr th {\n        vertical-align: top;\n    }\n\n    .dataframe thead th {\n        text-align: right;\n    }\n</style>\n<table border=\"1\" class=\"dataframe\">\n  <thead>\n    <tr style=\"text-align: right;\">\n      <th></th>\n      <th>Title</th>\n      <th>Description</th>\n      <th>Uploaded On</th>\n      <th>Views</th>\n      <th>Likes</th>\n      <th>Dislikes</th>\n      <th>Comments</th>\n      <th>Link</th>\n    </tr>\n  </thead>\n  <tbody>\n    <tr>\n      <th>0</th>\n      <td>The NEAT Algorithm is Neat</td>\n      <td>Code samples: https://github.com/Sentdex/NEAT-...</td>\n      <td>2021-01-07</td>\n      <td>4987</td>\n      <td>371</td>\n      <td>5</td>\n      <td>71</td>\n      <td>https://www.youtube.com/watch?v=ZC0gMhYhwW0</td>\n    </tr>\n    <tr>\n      <th>1</th>\n      <td>Neural Networks from Scratch - P.6 Softmax Act...</td>\n      <td>The what and why of the Softmax Activation fun...</td>\n      <td>2020-12-18</td>\n      <td>22534</td>\n      <td>1173</td>\n      <td>7</td>\n      <td>279</td>\n      <td>https://www.youtube.com/watch?v=omz_NdFgWyU</td>\n    </tr>\n    <tr>\n      <th>2</th>\n      <td>Neural Networks from Scratch (NNFS) in Print!</td>\n      <td>Get the book: https://nnfs.io\\ntwitters: \\ntwi...</td>\n      <td>2020-10-28</td>\n      <td>114549</td>\n      <td>5767</td>\n      <td>47</td>\n      <td>909</td>\n      <td>https://www.youtube.com/watch?v=sNHiM0DoEAg</td>\n    </tr>\n    <tr>\n      <th>3</th>\n      <td>Jetson Nano 2GB from NVIDIA</td>\n      <td>Get it here: https://www.nvidia.com/en-us/auto...</td>\n      <td>2020-10-14</td>\n      <td>31595</td>\n      <td>804</td>\n      <td>14</td>\n      <td>135</td>\n      <td>https://www.youtube.com/watch?v=iRrySp4VoPs</td>\n    </tr>\n    <tr>\n      <th>4</th>\n      <td>NNFS Update #2: Content done</td>\n      <td>More info: https://nnfs.io\\n\\nChannel membersh...</td>\n      <td>2020-09-25</td>\n      <td>26674</td>\n      <td>1330</td>\n      <td>14</td>\n      <td>291</td>\n      <td>https://www.youtube.com/watch?v=SN0VwEt2huo</td>\n    </tr>\n    <tr>\n      <th>...</th>\n      <td>...</td>\n      <td>...</td>\n      <td>...</td>\n      <td>...</td>\n      <td>...</td>\n      <td>...</td>\n      <td>...</td>\n      <td>...</td>\n    </tr>\n    <tr>\n      <th>1202</th>\n      <td>How to Sort a Python Dictionary By Value or Key!</td>\n      <td>Sentdex.com\\nFacebook.com/sentdex\\nTwitter.com...</td>\n      <td>2013-06-10</td>\n      <td>58415</td>\n      <td>392</td>\n      <td>27</td>\n      <td>34</td>\n      <td>https://www.youtube.com/watch?v=MGD_b2w_GU4</td>\n    </tr>\n    <tr>\n      <th>1203</th>\n      <td>Python's Logging Function</td>\n      <td>Sentdex.com\\nFacebook.com/sentdex\\nTwitter.com...</td>\n      <td>2013-06-08</td>\n      <td>24426</td>\n      <td>143</td>\n      <td>10</td>\n      <td>18</td>\n      <td>https://www.youtube.com/watch?v=OyZkXsgv5qk</td>\n    </tr>\n    <tr>\n      <th>1204</th>\n      <td>Python Encryption Tutorial with PyCrypto</td>\n      <td>Sentdex.com\\nFacebook.com/sentdex\\nTwitter.com...</td>\n      <td>2013-05-24</td>\n      <td>106696</td>\n      <td>556</td>\n      <td>31</td>\n      <td>123</td>\n      <td>https://www.youtube.com/watch?v=8PzDfykGg_g</td>\n    </tr>\n    <tr>\n      <th>1205</th>\n      <td>Matplotlib Python Tutorial Part 1: Basics and ...</td>\n      <td>Sample code: http://pythonprogramming.net/matp...</td>\n      <td>2013-05-16</td>\n      <td>170258</td>\n      <td>417</td>\n      <td>45</td>\n      <td>150</td>\n      <td>https://www.youtube.com/watch?v=wAwQ-noyB98</td>\n    </tr>\n    <tr>\n      <th>1206</th>\n      <td>A Lap Around TWS in my Honda s2000 AP1</td>\n      <td>Enoying an open track @ Texas World Speedway i...</td>\n      <td>2013-05-10</td>\n      <td>3519</td>\n      <td>44</td>\n      <td>4</td>\n      <td>19</td>\n      <td>https://www.youtube.com/watch?v=gJNaiIYodZg</td>\n    </tr>\n  </tbody>\n</table>\n<p>1207 rows × 8 columns</p>\n</div>"
     },
     "metadata": {},
     "execution_count": 34
    }
   ],
   "source": [
    "df"
   ]
  },
  {
   "cell_type": "code",
   "execution_count": null,
   "metadata": {},
   "outputs": [],
   "source": [
    "avg_views = int(df[\"Views\"].mean().round())\n",
    "avg_likes = int(df[\"Likes\"].mean().round())\n",
    "avg_dislikes = int(df[\"Dislikes\"].mean().round())\n",
    "avg_comments = int(df[\"Comments\"].mean().round())\n",
    "\n",
    "print(f\"Total views: {views}\",\n",
    "      f\"Number of Videos uploaded: {vid_count}\\n\",\n",
    "      f\"Average Views per Video: {avg_views}\",\n",
    "      f\"Average Likes per Video: {avg_likes}\",\n",
    "      f\"Average Dislikes per Video: {avg_dislikes}\",\n",
    "      f\"Average Comments per Video: {avg_comments}\", sep=\"\\n\"\n",
    ")"
   ]
  },
  {
   "source": [
    "### Top 10 Most Viewed Videos"
   ],
   "cell_type": "markdown",
   "metadata": {}
  },
  {
   "cell_type": "code",
   "execution_count": 48,
   "metadata": {},
   "outputs": [
    {
     "output_type": "execute_result",
     "data": {
      "text/plain": [
       "                                                 Title  \\\n",
       "447  Practical Machine Learning Tutorial with Pytho...   \n",
       "279  Self driving car neural network in the city - ...   \n",
       "446  Regression Intro - Practical Machine Learning ...   \n",
       "468  Introduction - Django Web Development with Pyt...   \n",
       "662  How to download and install Python Packages an...   \n",
       "757  Game Development in Python 3 With PyGame - 1 -...   \n",
       "152  Deep Learning with Python, TensorFlow, and Ker...   \n",
       "378                    What I do for a living - Q&A #1   \n",
       "494  Intro and loading Images  - OpenCV with Python...   \n",
       "344  Intro and Getting Stock Price Data - Python Pr...   \n",
       "\n",
       "                                           Description Uploaded On    Views  \\\n",
       "447  The objective of this course is to give you a ...  2016-04-11  2253344   \n",
       "279  In this self-driving car with Python video, I ...  2017-04-21  1519127   \n",
       "446  To begin, what is regression in terms of us us...  2016-04-11  1202357   \n",
       "468  Welcome to a Django web development with Pytho...  2016-01-19  1060837   \n",
       "662  This tutorial covers how to download and insta...  2015-01-21  1010406   \n",
       "757  In this video, we introduce how to make video ...  2014-08-27   903786   \n",
       "152  An updated deep learning introduction using Py...  2018-08-11   831903   \n",
       "378  Sentdex Q&A. To start, I answer how I learned ...  2016-11-05   780181   \n",
       "494  Welcome to a tutorial series, covering OpenCV,...  2015-12-16   692341   \n",
       "344  Welcome to a Python for Finance tutorial serie...  2017-01-17   690071   \n",
       "\n",
       "     Likes  Dislikes  Comments                                         Link  \n",
       "447  20459       247       971  https://www.youtube.com/watch?v=OGxgnH8y2NM  \n",
       "279  21805      2482      1565  https://www.youtube.com/watch?v=KSX2psajYrg  \n",
       "446   8836       185      1446  https://www.youtube.com/watch?v=JcI5Vnw0b2c  \n",
       "468   8839       180       767  https://www.youtube.com/watch?v=FNQxxpM1yOs  \n",
       "662   4617       314      1166  https://www.youtube.com/watch?v=jnpC_Ib_lbc  \n",
       "757   8384       413      1178  https://www.youtube.com/watch?v=ujOTNg17LjI  \n",
       "152  13635       229      1359  https://www.youtube.com/watch?v=wQ8BIBpya2k  \n",
       "378  12730       142       970  https://www.youtube.com/watch?v=eMtHmKO8GsA  \n",
       "494   4891       109       536  https://www.youtube.com/watch?v=Z78zbnLlPUA  \n",
       "344   7859        87       589  https://www.youtube.com/watch?v=2BrpKpWwT2A  "
      ],
      "text/html": "<div>\n<style scoped>\n    .dataframe tbody tr th:only-of-type {\n        vertical-align: middle;\n    }\n\n    .dataframe tbody tr th {\n        vertical-align: top;\n    }\n\n    .dataframe thead th {\n        text-align: right;\n    }\n</style>\n<table border=\"1\" class=\"dataframe\">\n  <thead>\n    <tr style=\"text-align: right;\">\n      <th></th>\n      <th>Title</th>\n      <th>Description</th>\n      <th>Uploaded On</th>\n      <th>Views</th>\n      <th>Likes</th>\n      <th>Dislikes</th>\n      <th>Comments</th>\n      <th>Link</th>\n    </tr>\n  </thead>\n  <tbody>\n    <tr>\n      <th>447</th>\n      <td>Practical Machine Learning Tutorial with Pytho...</td>\n      <td>The objective of this course is to give you a ...</td>\n      <td>2016-04-11</td>\n      <td>2253344</td>\n      <td>20459</td>\n      <td>247</td>\n      <td>971</td>\n      <td>https://www.youtube.com/watch?v=OGxgnH8y2NM</td>\n    </tr>\n    <tr>\n      <th>279</th>\n      <td>Self driving car neural network in the city - ...</td>\n      <td>In this self-driving car with Python video, I ...</td>\n      <td>2017-04-21</td>\n      <td>1519127</td>\n      <td>21805</td>\n      <td>2482</td>\n      <td>1565</td>\n      <td>https://www.youtube.com/watch?v=KSX2psajYrg</td>\n    </tr>\n    <tr>\n      <th>446</th>\n      <td>Regression Intro - Practical Machine Learning ...</td>\n      <td>To begin, what is regression in terms of us us...</td>\n      <td>2016-04-11</td>\n      <td>1202357</td>\n      <td>8836</td>\n      <td>185</td>\n      <td>1446</td>\n      <td>https://www.youtube.com/watch?v=JcI5Vnw0b2c</td>\n    </tr>\n    <tr>\n      <th>468</th>\n      <td>Introduction - Django Web Development with Pyt...</td>\n      <td>Welcome to a Django web development with Pytho...</td>\n      <td>2016-01-19</td>\n      <td>1060837</td>\n      <td>8839</td>\n      <td>180</td>\n      <td>767</td>\n      <td>https://www.youtube.com/watch?v=FNQxxpM1yOs</td>\n    </tr>\n    <tr>\n      <th>662</th>\n      <td>How to download and install Python Packages an...</td>\n      <td>This tutorial covers how to download and insta...</td>\n      <td>2015-01-21</td>\n      <td>1010406</td>\n      <td>4617</td>\n      <td>314</td>\n      <td>1166</td>\n      <td>https://www.youtube.com/watch?v=jnpC_Ib_lbc</td>\n    </tr>\n    <tr>\n      <th>757</th>\n      <td>Game Development in Python 3 With PyGame - 1 -...</td>\n      <td>In this video, we introduce how to make video ...</td>\n      <td>2014-08-27</td>\n      <td>903786</td>\n      <td>8384</td>\n      <td>413</td>\n      <td>1178</td>\n      <td>https://www.youtube.com/watch?v=ujOTNg17LjI</td>\n    </tr>\n    <tr>\n      <th>152</th>\n      <td>Deep Learning with Python, TensorFlow, and Ker...</td>\n      <td>An updated deep learning introduction using Py...</td>\n      <td>2018-08-11</td>\n      <td>831903</td>\n      <td>13635</td>\n      <td>229</td>\n      <td>1359</td>\n      <td>https://www.youtube.com/watch?v=wQ8BIBpya2k</td>\n    </tr>\n    <tr>\n      <th>378</th>\n      <td>What I do for a living - Q&amp;A #1</td>\n      <td>Sentdex Q&amp;A. To start, I answer how I learned ...</td>\n      <td>2016-11-05</td>\n      <td>780181</td>\n      <td>12730</td>\n      <td>142</td>\n      <td>970</td>\n      <td>https://www.youtube.com/watch?v=eMtHmKO8GsA</td>\n    </tr>\n    <tr>\n      <th>494</th>\n      <td>Intro and loading Images  - OpenCV with Python...</td>\n      <td>Welcome to a tutorial series, covering OpenCV,...</td>\n      <td>2015-12-16</td>\n      <td>692341</td>\n      <td>4891</td>\n      <td>109</td>\n      <td>536</td>\n      <td>https://www.youtube.com/watch?v=Z78zbnLlPUA</td>\n    </tr>\n    <tr>\n      <th>344</th>\n      <td>Intro and Getting Stock Price Data - Python Pr...</td>\n      <td>Welcome to a Python for Finance tutorial serie...</td>\n      <td>2017-01-17</td>\n      <td>690071</td>\n      <td>7859</td>\n      <td>87</td>\n      <td>589</td>\n      <td>https://www.youtube.com/watch?v=2BrpKpWwT2A</td>\n    </tr>\n  </tbody>\n</table>\n</div>"
     },
     "metadata": {},
     "execution_count": 48
    }
   ],
   "source": [
    "top_10_df = df.sort_values(by=\"Views\", ascending=False).iloc[:10]\n",
    "top_10_df"
   ]
  },
  {
   "cell_type": "code",
   "execution_count": 49,
   "metadata": {},
   "outputs": [
    {
     "output_type": "stream",
     "name": "stdout",
     "text": [
      "Average Views per Video: 1094435\nAverage Likes per Video: 11206\nAverage Dislikes per Video: 439\nAverage Comments per Video: 1055\n"
     ]
    }
   ],
   "source": [
    "top_avg_views = int(top_10_df[\"Views\"].mean().round())\n",
    "top_avg_likes = int(top_10_df[\"Likes\"].mean().round())\n",
    "top_avg_dislikes = int(top_10_df[\"Dislikes\"].mean().round())\n",
    "top_avg_comments = int(top_10_df[\"Comments\"].mean().round())\n",
    "\n",
    "print(f\"Average Views per Video: {top_avg_views}\",\n",
    "f\"Average Likes per Video: {top_avg_likes}\",\n",
    "f\"Average Dislikes per Video: {top_avg_dislikes}\",\n",
    "f\"Average Comments per Video: {top_avg_comments}\",\n",
    "sep=\"\\n\"\n",
    ")"
   ]
  },
  {
   "source": [
    "### Top 10 Least Viewed VIdeos"
   ],
   "cell_type": "markdown",
   "metadata": {}
  },
  {
   "cell_type": "code",
   "execution_count": 50,
   "metadata": {},
   "outputs": [
    {
     "output_type": "execute_result",
     "data": {
      "text/plain": [
       "                                                  Title  \\\n",
       "1100                    The most \"open\" track day ever!   \n",
       "1084  Website structure - Search Engine Optimization...   \n",
       "1165  Basic PHP Programming Tutorial 25: Time and Ti...   \n",
       "1164    Basic PHP Programming Tutorial 26: Die and Exit   \n",
       "1180                   Basic PHP Tutorial 9: While Loop   \n",
       "1189         Basic PHP Tutorial 16: Include and Require   \n",
       "1188                Basic PHP Tutorial 14: Foreach loop   \n",
       "1181            Basic PHP Tutorial 10: Switch Statement   \n",
       "1187           Basic PHP Tutorial 12: Associative Array   \n",
       "1174  Basic PHP Tutorial 7: Assignment, comparison a...   \n",
       "\n",
       "                                            Description Uploaded On  Views  \\\n",
       "1100  Quite possibly the best open track session I'v...  2013-09-16    164   \n",
       "1084  Sentdex.com\\nFacebook.com/sentdex\\nTwitter.com...  2013-09-28    307   \n",
       "1165  Link to the full playlist: \\nhttp://www.youtub...  2013-06-28    324   \n",
       "1164  Link to the full playlist: \\nhttp://www.youtub...  2013-06-28    344   \n",
       "1180  Link to the full playlist: \\nhttp://www.youtub...  2013-06-28    345   \n",
       "1189  Link to the full playlist: \\nhttp://www.youtub...  2013-06-28    370   \n",
       "1188  Link to the full playlist: \\nhttp://www.youtub...  2013-06-28    375   \n",
       "1181  Link to the full playlist: \\nhttp://www.youtub...  2013-06-28    398   \n",
       "1187  Link to the full playlist: \\nhttp://www.youtub...  2013-06-28    411   \n",
       "1174  Link to the full playlist: \\nhttp://www.youtub...  2013-06-28    411   \n",
       "\n",
       "      Likes  Dislikes  Comments                                         Link  \n",
       "1100      5         1         0  https://www.youtube.com/watch?v=026FhTz6uIM  \n",
       "1084      2         1         0  https://www.youtube.com/watch?v=sb2ramn0wow  \n",
       "1165      5         1         0  https://www.youtube.com/watch?v=S32NKR_fOoA  \n",
       "1164      5         2         5  https://www.youtube.com/watch?v=RmPTbjsGbjI  \n",
       "1180      4         1         0  https://www.youtube.com/watch?v=PFdJc5MDxpA  \n",
       "1189      4         1         0  https://www.youtube.com/watch?v=yDQnTsvS52w  \n",
       "1188      4         1         0  https://www.youtube.com/watch?v=urM5-7mvFVc  \n",
       "1181      2         2         0  https://www.youtube.com/watch?v=WvwD5chM9gg  \n",
       "1187      3         1         2  https://www.youtube.com/watch?v=dxKRwuDwE9s  \n",
       "1174      7         1         2  https://www.youtube.com/watch?v=6mIdkgO1u7Y  "
      ],
      "text/html": "<div>\n<style scoped>\n    .dataframe tbody tr th:only-of-type {\n        vertical-align: middle;\n    }\n\n    .dataframe tbody tr th {\n        vertical-align: top;\n    }\n\n    .dataframe thead th {\n        text-align: right;\n    }\n</style>\n<table border=\"1\" class=\"dataframe\">\n  <thead>\n    <tr style=\"text-align: right;\">\n      <th></th>\n      <th>Title</th>\n      <th>Description</th>\n      <th>Uploaded On</th>\n      <th>Views</th>\n      <th>Likes</th>\n      <th>Dislikes</th>\n      <th>Comments</th>\n      <th>Link</th>\n    </tr>\n  </thead>\n  <tbody>\n    <tr>\n      <th>1100</th>\n      <td>The most \"open\" track day ever!</td>\n      <td>Quite possibly the best open track session I'v...</td>\n      <td>2013-09-16</td>\n      <td>164</td>\n      <td>5</td>\n      <td>1</td>\n      <td>0</td>\n      <td>https://www.youtube.com/watch?v=026FhTz6uIM</td>\n    </tr>\n    <tr>\n      <th>1084</th>\n      <td>Website structure - Search Engine Optimization...</td>\n      <td>Sentdex.com\\nFacebook.com/sentdex\\nTwitter.com...</td>\n      <td>2013-09-28</td>\n      <td>307</td>\n      <td>2</td>\n      <td>1</td>\n      <td>0</td>\n      <td>https://www.youtube.com/watch?v=sb2ramn0wow</td>\n    </tr>\n    <tr>\n      <th>1165</th>\n      <td>Basic PHP Programming Tutorial 25: Time and Ti...</td>\n      <td>Link to the full playlist: \\nhttp://www.youtub...</td>\n      <td>2013-06-28</td>\n      <td>324</td>\n      <td>5</td>\n      <td>1</td>\n      <td>0</td>\n      <td>https://www.youtube.com/watch?v=S32NKR_fOoA</td>\n    </tr>\n    <tr>\n      <th>1164</th>\n      <td>Basic PHP Programming Tutorial 26: Die and Exit</td>\n      <td>Link to the full playlist: \\nhttp://www.youtub...</td>\n      <td>2013-06-28</td>\n      <td>344</td>\n      <td>5</td>\n      <td>2</td>\n      <td>5</td>\n      <td>https://www.youtube.com/watch?v=RmPTbjsGbjI</td>\n    </tr>\n    <tr>\n      <th>1180</th>\n      <td>Basic PHP Tutorial 9: While Loop</td>\n      <td>Link to the full playlist: \\nhttp://www.youtub...</td>\n      <td>2013-06-28</td>\n      <td>345</td>\n      <td>4</td>\n      <td>1</td>\n      <td>0</td>\n      <td>https://www.youtube.com/watch?v=PFdJc5MDxpA</td>\n    </tr>\n    <tr>\n      <th>1189</th>\n      <td>Basic PHP Tutorial 16: Include and Require</td>\n      <td>Link to the full playlist: \\nhttp://www.youtub...</td>\n      <td>2013-06-28</td>\n      <td>370</td>\n      <td>4</td>\n      <td>1</td>\n      <td>0</td>\n      <td>https://www.youtube.com/watch?v=yDQnTsvS52w</td>\n    </tr>\n    <tr>\n      <th>1188</th>\n      <td>Basic PHP Tutorial 14: Foreach loop</td>\n      <td>Link to the full playlist: \\nhttp://www.youtub...</td>\n      <td>2013-06-28</td>\n      <td>375</td>\n      <td>4</td>\n      <td>1</td>\n      <td>0</td>\n      <td>https://www.youtube.com/watch?v=urM5-7mvFVc</td>\n    </tr>\n    <tr>\n      <th>1181</th>\n      <td>Basic PHP Tutorial 10: Switch Statement</td>\n      <td>Link to the full playlist: \\nhttp://www.youtub...</td>\n      <td>2013-06-28</td>\n      <td>398</td>\n      <td>2</td>\n      <td>2</td>\n      <td>0</td>\n      <td>https://www.youtube.com/watch?v=WvwD5chM9gg</td>\n    </tr>\n    <tr>\n      <th>1187</th>\n      <td>Basic PHP Tutorial 12: Associative Array</td>\n      <td>Link to the full playlist: \\nhttp://www.youtub...</td>\n      <td>2013-06-28</td>\n      <td>411</td>\n      <td>3</td>\n      <td>1</td>\n      <td>2</td>\n      <td>https://www.youtube.com/watch?v=dxKRwuDwE9s</td>\n    </tr>\n    <tr>\n      <th>1174</th>\n      <td>Basic PHP Tutorial 7: Assignment, comparison a...</td>\n      <td>Link to the full playlist: \\nhttp://www.youtub...</td>\n      <td>2013-06-28</td>\n      <td>411</td>\n      <td>7</td>\n      <td>1</td>\n      <td>2</td>\n      <td>https://www.youtube.com/watch?v=6mIdkgO1u7Y</td>\n    </tr>\n  </tbody>\n</table>\n</div>"
     },
     "metadata": {},
     "execution_count": 50
    }
   ],
   "source": [
    "bottom_10_df = df.sort_values(by=\"Views\").iloc[:10]\n",
    "bottom_10_df"
   ]
  },
  {
   "cell_type": "code",
   "execution_count": 51,
   "metadata": {},
   "outputs": [
    {
     "output_type": "stream",
     "name": "stdout",
     "text": [
      "Average Views per Video: 345\nAverage Likes per Video: 4\nAverage Dislikes per Video: 1\nAverage Comments per Video: 1\n"
     ]
    }
   ],
   "source": [
    "bottom_avg_views = int(bottom_10_df[\"Views\"].mean().round())\n",
    "bottom_avg_likes = int(bottom_10_df[\"Likes\"].mean().round())\n",
    "bottom_avg_dislikes = int(bottom_10_df[\"Dislikes\"].mean().round())\n",
    "bottom_avg_comments = int(bottom_10_df[\"Comments\"].mean().round())\n",
    "\n",
    "print(f\"Average Views per Video: {bottom_avg_views}\",\n",
    "f\"Average Likes per Video: {bottom_avg_likes}\",\n",
    "f\"Average Dislikes per Video: {bottom_avg_dislikes}\",\n",
    "f\"Average Comments per Video: {bottom_avg_comments}\",\n",
    "sep=\"\\n\"\n",
    ")"
   ]
  },
  {
   "cell_type": "code",
   "execution_count": null,
   "metadata": {},
   "outputs": [],
   "source": []
  }
 ],
 "metadata": {
  "kernelspec": {
   "name": "python3",
   "display_name": "Python 3.8.5 64-bit ('venv')",
   "metadata": {
    "interpreter": {
     "hash": "16a31199947fd293c53cfb9b15b650cd8c35aab822b79eefbb5b9ee4d81aa0f5"
    }
   }
  },
  "language_info": {
   "codemirror_mode": {
    "name": "ipython",
    "version": 3
   },
   "file_extension": ".py",
   "mimetype": "text/x-python",
   "name": "python",
   "nbconvert_exporter": "python",
   "pygments_lexer": "ipython3",
   "version": "3.8.5-final"
  }
 },
 "nbformat": 4,
 "nbformat_minor": 4
}